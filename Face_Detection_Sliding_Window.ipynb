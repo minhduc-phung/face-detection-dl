{
 "cells": [
  {
   "cell_type": "code",
   "execution_count": 37,
   "metadata": {},
   "outputs": [],
   "source": [
    "import torch\n",
    "import torchvision.transforms as transforms\n",
    "import torchvision.ops as ops\n",
    "from net import Net\n",
    "import cv2\n",
    "import warnings\n",
    "from sliding_window import sliding_window\n",
    "from image_pyramid import image_pyramid\n",
    "import torch.nn.functional as F\n",
    "\n",
    "#suppress warning\n",
    "warnings.filterwarnings('ignore')"
   ]
  },
  {
   "cell_type": "code",
   "execution_count": 38,
   "metadata": {},
   "outputs": [
    {
     "data": {
      "text/plain": "<All keys matched successfully>"
     },
     "execution_count": 38,
     "metadata": {},
     "output_type": "execute_result"
    }
   ],
   "source": [
    "face_detection_net = Net()\n",
    "face_detection_net.load_state_dict(torch.load(\"./saved_model.pth\"))"
   ]
  },
  {
   "cell_type": "code",
   "execution_count": 39,
   "metadata": {},
   "outputs": [],
   "source": [
    "# initialize variables used for the object detection procedure\n",
    "PYR_SCALE = 1.5\n",
    "WINDOW_STEP = 16\n",
    "ROI_SIZE = (128,128)\n",
    "INPUT_SIZE = (36,36)"
   ]
  },
  {
   "cell_type": "code",
   "execution_count": 40,
   "metadata": {},
   "outputs": [],
   "source": [
    "def resize_image(image, max_size):\n",
    "    height, width = image.shape[:2]\n",
    "    if height > width:\n",
    "        new_width = width\n",
    "        new_height = int(height*max_size/width)\n",
    "    else:\n",
    "        new_height = height\n",
    "        new_width = int(width*max_size/height)\n",
    "\n",
    "    image = cv2.resize(image, (new_width, new_height))\n",
    "    return image"
   ]
  },
  {
   "cell_type": "code",
   "execution_count": 41,
   "metadata": {},
   "outputs": [],
   "source": [
    "transform = transforms.Compose([ \n",
    "    transforms.ToPILImage(),\n",
    "    transforms.ToTensor(),    \n",
    "    transforms.Resize(INPUT_SIZE)\n",
    "])"
   ]
  },
  {
   "cell_type": "code",
   "execution_count": 42,
   "metadata": {},
   "outputs": [],
   "source": [
    "rois = []\n",
    "locs = []\n",
    "\n",
    "#image_path = \"./image_face_detection/0000bee39176697a.jpg\"\n",
    "image_path = './face_detection_images/' + 'detection_test2.jpg'\n",
    "img = cv2.imread(image_path, cv2.IMREAD_GRAYSCALE)\n",
    "\n",
    "#img = resize_image(img, 720)\n",
    "\n",
    "(H, W) = img.shape[:2]\n",
    "\n",
    "pyramid = image_pyramid(img, scale=PYR_SCALE, min_size=ROI_SIZE)\n",
    "\n",
    "for image in pyramid:\n",
    "    # determine the scale factor between the *original* image\n",
    "    # dimensions and the *current* layer of the pyramid\n",
    "    scale = W / float(image.shape[1])\n",
    "    \n",
    "    # for each layer of the image pyramid, loop over the sliding\n",
    "    # window locations\n",
    "    for (x, y, roiOrig) in sliding_window(image, WINDOW_STEP, ROI_SIZE):\n",
    "        # scale the (x, y)-coordinates of the ROI with respect to the\n",
    "        # *original* image dimensions\n",
    "        x = int(x * scale)\n",
    "        y = int(y * scale)\n",
    "        w = int(ROI_SIZE[0] * scale)\n",
    "        h = int(ROI_SIZE[1] * scale)\n",
    "        # take the ROI and preprocess it so we can later classify the region \n",
    "\n",
    "        roi_tensor_gray = transform(roiOrig)\n",
    "\n",
    "        # update our list of ROIs and associated coordinates\n",
    "        rois.append(roi_tensor_gray)\n",
    "        locs.append((x, y, x + w, y + h))\n"
   ]
  },
  {
   "cell_type": "code",
   "execution_count": 43,
   "metadata": {},
   "outputs": [
    {
     "name": "stdout",
     "output_type": "stream",
     "text": [
      "torch.Size([7560, 1, 36, 36])\n"
     ]
    }
   ],
   "source": [
    "stacked_tensor = torch.stack(rois, dim=0)\n",
    "\n",
    "print(stacked_tensor.size())\n",
    "\n",
    "output = face_detection_net(stacked_tensor)"
   ]
  },
  {
   "cell_type": "code",
   "execution_count": 44,
   "metadata": {},
   "outputs": [],
   "source": [
    "probs = F.softmax(output, dim=1)\n",
    "probs_list = probs.tolist()\n",
    "\n",
    "labels = {'valid_probs': [],\n",
    "          'boxes': []}"
   ]
  },
  {
   "cell_type": "code",
   "execution_count": 45,
   "metadata": {},
   "outputs": [
    {
     "name": "stdout",
     "output_type": "stream",
     "text": [
      "tensor([[ 704.,  240.,  832.,  368.],\n",
      "        [ 704.,  256.,  832.,  384.],\n",
      "        [ 720.,  256.,  848.,  384.],\n",
      "        [ 688.,  272.,  816.,  400.],\n",
      "        [ 704.,  272.,  832.,  400.],\n",
      "        [ 704.,  288.,  832.,  416.],\n",
      "        [ 720.,  288.,  848.,  416.],\n",
      "        [ 736.,  288.,  864.,  416.],\n",
      "        [ 624.,  304.,  752.,  432.],\n",
      "        [ 640.,  304.,  768.,  432.],\n",
      "        [ 656.,  304.,  784.,  432.],\n",
      "        [ 672.,  304.,  800.,  432.],\n",
      "        [ 688.,  304.,  816.,  432.],\n",
      "        [ 704.,  304.,  832.,  432.],\n",
      "        [ 720.,  304.,  848.,  432.],\n",
      "        [ 736.,  304.,  864.,  432.],\n",
      "        [1040.,  304., 1168.,  432.],\n",
      "        [1056.,  304., 1184.,  432.],\n",
      "        [  16.,  320.,  144.,  448.],\n",
      "        [ 624.,  320.,  752.,  448.],\n",
      "        [ 640.,  320.,  768.,  448.],\n",
      "        [ 656.,  320.,  784.,  448.],\n",
      "        [ 672.,  320.,  800.,  448.],\n",
      "        [ 688.,  320.,  816.,  448.],\n",
      "        [ 704.,  320.,  832.,  448.],\n",
      "        [ 720.,  320.,  848.,  448.],\n",
      "        [  16.,  336.,  144.,  464.],\n",
      "        [  80.,  336.,  208.,  464.],\n",
      "        [ 624.,  336.,  752.,  464.],\n",
      "        [ 640.,  336.,  768.,  464.],\n",
      "        [ 656.,  336.,  784.,  464.],\n",
      "        [ 672.,  336.,  800.,  464.],\n",
      "        [ 688.,  336.,  816.,  464.],\n",
      "        [ 704.,  336.,  832.,  464.],\n",
      "        [ 720.,  336.,  848.,  464.],\n",
      "        [  16.,  352.,  144.,  480.],\n",
      "        [  32.,  352.,  160.,  480.],\n",
      "        [  48.,  352.,  176.,  480.],\n",
      "        [  64.,  352.,  192.,  480.],\n",
      "        [ 992.,  352., 1120.,  480.],\n",
      "        [1296.,  352., 1424.,  480.],\n",
      "        [1312.,  352., 1440.,  480.],\n",
      "        [1328.,  352., 1456.,  480.],\n",
      "        [1344.,  352., 1472.,  480.],\n",
      "        [  16.,  368.,  144.,  496.],\n",
      "        [  32.,  368.,  160.,  496.],\n",
      "        [  48.,  368.,  176.,  496.],\n",
      "        [  64.,  368.,  192.,  496.],\n",
      "        [ 368.,  368.,  496.,  496.],\n",
      "        [ 992.,  368., 1120.,  496.],\n",
      "        [1296.,  368., 1424.,  496.],\n",
      "        [1312.,  368., 1440.,  496.],\n",
      "        [  16.,  384.,  144.,  512.],\n",
      "        [  32.,  384.,  160.,  512.],\n",
      "        [  48.,  384.,  176.,  512.],\n",
      "        [1296.,  384., 1424.,  512.],\n",
      "        [1312.,  384., 1440.,  512.],\n",
      "        [  16.,  400.,  144.,  528.],\n",
      "        [  32.,  400.,  160.,  528.],\n",
      "        [  48.,  400.,  176.,  528.],\n",
      "        [ 368.,  400.,  496.,  528.],\n",
      "        [ 384.,  400.,  512.,  528.],\n",
      "        [ 400.,  400.,  528.,  528.],\n",
      "        [ 704.,  400.,  832.,  528.],\n",
      "        [1296.,  400., 1424.,  528.],\n",
      "        [1312.,  400., 1440.,  528.],\n",
      "        [1328.,  400., 1456.,  528.],\n",
      "        [  32.,  416.,  160.,  544.],\n",
      "        [ 368.,  416.,  496.,  544.],\n",
      "        [1296.,  416., 1424.,  544.],\n",
      "        [1312.,  416., 1440.,  544.],\n",
      "        [ 672.,  848.,  800.,  976.],\n",
      "        [ 688.,  848.,  816.,  976.],\n",
      "        [ 672.,  216.,  864.,  408.],\n",
      "        [ 696.,  216.,  888.,  408.],\n",
      "        [ 672.,  240.,  864.,  432.],\n",
      "        [ 600.,  264.,  792.,  456.],\n",
      "        [ 624.,  264.,  816.,  456.],\n",
      "        [ 648.,  264.,  840.,  456.],\n",
      "        [ 672.,  264.,  864.,  456.],\n",
      "        [ 600.,  288.,  792.,  480.],\n",
      "        [ 624.,  288.,  816.,  480.],\n",
      "        [ 648.,  288.,  840.,  480.],\n",
      "        [ 672.,  288.,  864.,  480.],\n",
      "        [ 600.,  312.,  792.,  504.],\n",
      "        [ 624.,  312.,  816.,  504.],\n",
      "        [ 648.,  312.,  840.,  504.],\n",
      "        [ 672.,  312.,  864.,  504.],\n",
      "        [ 984.,  312., 1176.,  504.],\n",
      "        [   0.,  336.,  192.,  528.],\n",
      "        [ 624.,  336.,  816.,  528.],\n",
      "        [ 648.,  336.,  840.,  528.],\n",
      "        [   0.,  360.,  192.,  552.],\n",
      "        [  24.,  360.,  216.,  552.],\n",
      "        [1272.,  360., 1464.,  552.],\n",
      "        [1117.,  144., 1405.,  432.],\n",
      "        [ 576.,  252.,  864.,  540.],\n",
      "        [ 702.,   54., 1134.,  486.]])\n"
     ]
    }
   ],
   "source": [
    "for i in range(0,len(probs_list)):\n",
    "    if probs_list[i][1] >= 0.95:\n",
    "        box = locs[i]\n",
    "\n",
    "        labels['valid_probs'].append(probs_list[i][1])\n",
    "        labels['boxes'].append(box)\n",
    "\n",
    "tensor_boxes = torch.Tensor(labels['boxes'])\n",
    "print(tensor_boxes)\n",
    "tensor_probs = torch.Tensor(labels['valid_probs'])\n",
    "\n",
    "valid_box = ops.nms(tensor_boxes, tensor_probs, iou_threshold=0.1)\n",
    "        "
   ]
  },
  {
   "cell_type": "code",
   "execution_count": 46,
   "metadata": {},
   "outputs": [
    {
     "name": "stdout",
     "output_type": "stream",
     "text": [
      "(704, 256, 832, 384)\n",
      "tensor([85, 45, 60, 56, 16, 71, 97, 95])\n"
     ]
    }
   ],
   "source": [
    "print(labels['boxes'][1])\n",
    "\n",
    "print(valid_box)"
   ]
  },
  {
   "cell_type": "code",
   "execution_count": 47,
   "metadata": {},
   "outputs": [],
   "source": [
    " \n",
    "# Blue color in BGR \n",
    "color = (255, 0, 0) \n",
    "  \n",
    "# Line thickness of 1 px \n",
    "thickness = 1\n",
    "\n",
    "img_color = cv2.imread(image_path)\n",
    "  \n",
    "# Using cv2.rectangle() method \n",
    "# Draw a rectangle with blue line borders of thickness of 1 px \n",
    "for index in valid_box:\n",
    "    box = labels['boxes'][index]\n",
    "    (x,y,z,t) = box\n",
    "    cv2.rectangle(img_color, (x,y), (z,t), color, thickness)\n",
    "\n",
    "cv2.imshow('image', img_color)\n",
    "\n",
    "# add wait key. window waits until user presses a key\n",
    "cv2.waitKey(0)\n",
    "# and finally destroy/close all open windows\n",
    "cv2.destroyAllWindows()"
   ]
  }
 ],
 "metadata": {
  "kernelspec": {
   "display_name": "fl",
   "language": "python",
   "name": "python3"
  },
  "language_info": {
   "codemirror_mode": {
    "name": "ipython",
    "version": 3
   },
   "file_extension": ".py",
   "mimetype": "text/x-python",
   "name": "python",
   "nbconvert_exporter": "python",
   "pygments_lexer": "ipython3",
   "version": "3.9.16"
  }
 },
 "nbformat": 4,
 "nbformat_minor": 2
}
