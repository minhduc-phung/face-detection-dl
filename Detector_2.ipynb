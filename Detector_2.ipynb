{
 "cells": [
  {
   "cell_type": "code",
   "execution_count": 10,
   "outputs": [],
   "source": [
    "import torch\n",
    "from net import Net\n",
    "import cv2\n",
    "from image_pyramid import image_pyramid\n",
    "from sliding_window import sliding_window\n",
    "import torchvision.transforms as transforms\n",
    "import warnings\n",
    "import torchvision.ops as ops\n",
    "import imutils\n",
    "import torch.nn.functional as F\n",
    "\n",
    "# Suppress warnings\n",
    "warnings.filterwarnings(\"ignore\")"
   ],
   "metadata": {
    "collapsed": false
   }
  },
  {
   "cell_type": "code",
   "execution_count": 11,
   "outputs": [
    {
     "data": {
      "text/plain": "<All keys matched successfully>"
     },
     "execution_count": 11,
     "metadata": {},
     "output_type": "execute_result"
    }
   ],
   "source": [
    "# Load the trained model\n",
    "PATH = './saved_model.pth'\n",
    "net = Net()\n",
    "net.load_state_dict(torch.load(PATH))"
   ],
   "metadata": {
    "collapsed": false
   }
  },
  {
   "cell_type": "code",
   "execution_count": 12,
   "outputs": [],
   "source": [
    "# initialize variables used for the object detection procedure\n",
    "MAX_WIDTH = 1600\n",
    "PYR_SCALE = 1.5\n",
    "WIN_STEP = 16\n",
    "ROI_SIZE = (128, 128)\n",
    "INPUT_SIZE = (36, 36)"
   ],
   "metadata": {
    "collapsed": false
   }
  },
  {
   "cell_type": "code",
   "execution_count": 13,
   "outputs": [],
   "source": [
    "FILE_NAME = 'detection_test2.jpg'\n",
    "FILE = './face_detection_images/' + FILE_NAME\n",
    "original_image = cv2.imread(FILE, cv2.IMREAD_GRAYSCALE)\n",
    "if original_image.shape[1] > MAX_WIDTH:\n",
    "\toriginal_image = imutils.resize(original_image, width=MAX_WIDTH)\n",
    "(H, W) = original_image.shape[:2]"
   ],
   "metadata": {
    "collapsed": false
   }
  },
  {
   "cell_type": "code",
   "execution_count": 14,
   "outputs": [],
   "source": [
    "transform = transforms.Compose(\n",
    "    [transforms.ToPILImage(),\n",
    "\t transforms.ToTensor(),\n",
    "\t transforms.Resize(INPUT_SIZE),\n",
    "     ])"
   ],
   "metadata": {
    "collapsed": false
   }
  },
  {
   "cell_type": "code",
   "execution_count": 15,
   "outputs": [],
   "source": [
    "pyramid = image_pyramid(original_image, scale=PYR_SCALE, min_size=ROI_SIZE)\n",
    "rois = [] # Regions of interest\n",
    "locs = [] # Locations where the regions of interest were found"
   ],
   "metadata": {
    "collapsed": false
   }
  },
  {
   "cell_type": "code",
   "execution_count": 16,
   "outputs": [],
   "source": [
    "# loop over the image pyramid\n",
    "for image in pyramid:\n",
    "\t# determine the scale factor between the *original* image\n",
    "\t# dimensions and the *current* layer of the pyramid\n",
    "\tscale = W / float(image.shape[1])\n",
    "\t# for each layer of the image pyramid, loop over the sliding\n",
    "\t# window locations\n",
    "\tfor (x, y, roiOrig) in sliding_window(image, WIN_STEP, ROI_SIZE):\n",
    "\t\t# scale the (x, y)-coordinates of the ROI with respect to the\n",
    "\t\t# *original* image dimensions\n",
    "\t\tx = int(x * scale)\n",
    "\t\ty = int(y * scale)\n",
    "\t\tw = int(ROI_SIZE[0] * scale)\n",
    "\t\th = int(ROI_SIZE[1] * scale)\n",
    "\n",
    "\t\t#roi = cv2.resize(roiOrig, INPUT_SIZE)\n",
    "\t\troi_grayscaled = transform(roiOrig)\n",
    "\t\t# update our list of ROIs and associated coordinates\n",
    "\t\trois.append(roi_grayscaled)\n",
    "\t\tlocs.append((x, y, x + w, y + h))\n",
    "\n",
    "# Turn the list of tensors into a tensor to feed into the network\n",
    "rois_stacked = torch.stack(rois, dim=0)"
   ],
   "metadata": {
    "collapsed": false
   }
  },
  {
   "cell_type": "code",
   "execution_count": 17,
   "outputs": [],
   "source": [
    "# show how long it took to loop over the image pyramid layers and\n",
    "# sliding window locations\n",
    "output = net(rois_stacked)\n",
    "# decode the predictions and initialize a dictionary which maps class\n",
    "# labels (keys) to any ROIs associated with that label (values)\n",
    "probs = F.softmax(output, dim=1)\n",
    "probs_list = probs.tolist()\n",
    "labels = {'confidence': [], 'boxes': []}\n",
    "\n",
    "for i in range(0, len(probs_list)):\n",
    "\tif probs_list[i][1] >= 0.95:\n",
    "\t\tbox = locs[i]\n",
    "\t\tlabels['confidence'].append(probs_list[i][1])\n",
    "\t\tlabels['boxes'].append(box)\n",
    "tensor_boxes = (torch.tensor(labels['boxes'])).float()\n",
    "tensor_probs = torch.Tensor(labels['confidence'])\n",
    "\n",
    "valid_box = ops.nms(tensor_boxes, tensor_probs, iou_threshold=0.1)"
   ],
   "metadata": {
    "collapsed": false
   }
  },
  {
   "cell_type": "code",
   "execution_count": 18,
   "outputs": [],
   "source": [
    "original_image = cv2.imread(FILE)\n",
    "if original_image.shape[1] > MAX_WIDTH:\n",
    "\toriginal_image = imutils.resize(original_image, width=MAX_WIDTH)\n",
    "# loop over the original bounding boxes\n",
    "for i in valid_box:\n",
    "\t# scale the bounding box coordinates based on the respective\n",
    "\t# ratios\n",
    "\tbox = labels['boxes'][i]\n",
    "\t(startX, startY, endX, endY) = box\n",
    "\t# draw the bounding box on the image\n",
    "\tcv2.rectangle(original_image, (startX, startY), (endX, endY), (0, 255, 0), 2)\n",
    "\n",
    "# show the output image\n",
    "cv2.imshow(\"Output\", original_image)\n",
    "cv2.waitKey(0)\n",
    "cv2.destroyAllWindows()"
   ],
   "metadata": {
    "collapsed": false
   }
  }
 ],
 "metadata": {
  "kernelspec": {
   "display_name": "Python 3",
   "language": "python",
   "name": "python3"
  },
  "language_info": {
   "codemirror_mode": {
    "name": "ipython",
    "version": 2
   },
   "file_extension": ".py",
   "mimetype": "text/x-python",
   "name": "python",
   "nbconvert_exporter": "python",
   "pygments_lexer": "ipython2",
   "version": "2.7.6"
  }
 },
 "nbformat": 4,
 "nbformat_minor": 0
}
